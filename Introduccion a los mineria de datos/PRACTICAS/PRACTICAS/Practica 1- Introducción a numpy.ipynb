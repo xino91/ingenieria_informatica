{
 "cells": [
  {
   "cell_type": "markdown",
   "metadata": {},
   "source": [
    "PRÁTICA 1: MINERÍA DE DATOS: INTRODUCCIÓN A NUMPY"
   ]
  },
  {
   "cell_type": "markdown",
   "metadata": {},
   "source": [
    "### Ejercicio 1: Implemente mediante un programa en python la asignación del reparto de escaños de una circunscripcuón electoral usando la ley de D´Hont. Los datos se pueden introducir por teclado o leerse desde un fichero."
   ]
  },
  {
   "cell_type": "code",
   "execution_count": null,
   "metadata": {},
   "outputs": [],
   "source": [
    "import numpy as np\n",
    "import sys\n",
    "\n"
   ]
  },
  {
   "cell_type": "markdown",
   "metadata": {},
   "source": [
    "### Ejercicio 2: Implemente un programa Python que genere aleatoriamente una matriz de valores reales de un tamaño indicado por teclado. Sobre una matriz generada realice las siguientes operaciones:\n",
    "2.1) **Obtenga los valores máximos y mínimos de la matriz.**\n",
    "\n",
    "2.2) **Use el producto escalar para obtener el ángulo formado por dos vectores fila o columna solicitados por teclado**\n"
   ]
  },
  {
   "cell_type": "code",
   "execution_count": 31,
   "metadata": {},
   "outputs": [
    {
     "name": "stdout",
     "output_type": "stream",
     "text": [
      "Introduce número de filas5\n",
      "Introduce el número de columnas5\n",
      "5\n",
      "Valor máximo de la matriz 0.9921854591799903\n",
      "Valor mínimo de la matriz 0.025264361999718044\n",
      "Introduce un 0 para filas u otra cosa para columnas1\n",
      "Introduce un entero referente a la columna de la matriz1\n",
      "Introduce un entero referente a la columna de la matriz2\n",
      "El angulo formado por los dos vectores es  35.36628735593343 º\n"
     ]
    }
   ],
   "source": [
    "import numpy as np\n",
    "\n",
    "rows = input(\"Introduce número de filas\")\n",
    "colums = input(\"Introduce el número de columnas\")\n",
    "\n",
    "matriz = np.random.rand(int(rows), int(colums))\n",
    "matriz = np.array(matriz)\n",
    "print(matriz)\n",
    "\n",
    "# 2.1 Valores máximos y mínimos de la matriz\n",
    "print(\"Valor máximo de la matriz\", matriz.max())\n",
    "print(\"Valor mínimo de la matriz\", matriz.min())\n",
    "\n",
    "#2.2 Producto escalar para obtener el ángulo formados por dos vectores fila o columna solicitados\n",
    "decision = input(\"Introduce un 0 para filas u otra cosa para columnas\")\n",
    "if(decision ==1):\n",
    "    vector1 = input(\"Introduce un entero referente a la fila de la matriz\")\n",
    "    vector2 = input(\"Introduce un entero referente a la fila de la matriz\")\n",
    "    if(int(vector1) < matriz[0].size and int(vector2) < matriz[0].size):\n",
    "        u= matriz[int(vector1)]\n",
    "        v= matriz[int(vector2)]\n",
    "        dotpr=np.sum(u*v)\n",
    "        modu=np.sqrt(sum(u*u))\n",
    "        modv=np.sqrt(sum(v*v))\n",
    "        aux=dotpr/(modu*modv)\n",
    "        angulo=np.arccos(aux)\n",
    "        print(\"El angulo formado por los dos vectores es \",(angulo*180)/3.141592653589793,\"º\")\n",
    "    else:\n",
    "        print(\"Indices no validos\")\n",
    "else:\n",
    "    vector1 = input(\"Introduce un entero referente a la columna de la matriz\")\n",
    "    vector2 = input(\"Introduce un entero referente a la columna de la matriz\")\n",
    "    if(int(vector1) < matriz[0].size and int(vector2) < matriz[0].size):\n",
    "        u= matriz[:,int(vector1)]\n",
    "        v= matriz[:,int(vector2)]\n",
    "        dotpr=np.sum(u*v)\n",
    "        modu=np.sqrt(sum(u*u))\n",
    "        modv=np.sqrt(sum(v*v))\n",
    "        aux=dotpr/(modu*modv)\n",
    "        angulo=np.arccos(aux)\n",
    "        print(\"El angulo formado por los dos vectores es \",(angulo*180)/3.141592653589793,\"º\")\n",
    "    else:\n",
    "        print(\"Indices no validos\")"
   ]
  },
  {
   "cell_type": "markdown",
   "metadata": {},
   "source": [
    "### Ejercicio 3: Implemente un programa Python que lea una matriz de número reales desde el teclado de una dimensión dada. A partir de la matriz leída debe calcular la siguiente información:\n",
    "**3.1) Máximo por filas y por columnas**\n",
    "\n",
    "**3.2) Determinante de la matriz**\n",
    "\n",
    "**3.3) Rango de la matriz**"
   ]
  },
  {
   "cell_type": "code",
   "execution_count": 65,
   "metadata": {},
   "outputs": [
    {
     "name": "stdout",
     "output_type": "stream",
     "text": [
      "Introduce número de filas y columnas5\n",
      "Introduce el valor de  0 , 0 :\n",
      "5\n",
      "Introduce el valor de  0 , 1 :\n",
      "2\n",
      "Introduce el valor de  0 , 2 :\n",
      "5\n",
      "Introduce el valor de  0 , 3 :\n",
      "4\n",
      "Introduce el valor de  0 , 4 :\n",
      "7\n",
      "Introduce el valor de  1 , 0 :\n",
      "8\n",
      "Introduce el valor de  1 , 1 :\n",
      "5\n",
      "Introduce el valor de  1 , 2 :\n",
      "6\n",
      "Introduce el valor de  1 , 3 :\n",
      "5\n",
      "Introduce el valor de  1 , 4 :\n",
      "5\n",
      "Introduce el valor de  2 , 0 :\n",
      "5\n",
      "Introduce el valor de  2 , 1 :\n",
      "5\n",
      "Introduce el valor de  2 , 2 :\n",
      "5\n",
      "Introduce el valor de  2 , 3 :\n",
      "5\n",
      "Introduce el valor de  2 , 4 :\n",
      "5\n",
      "Introduce el valor de  3 , 0 :\n",
      "5\n",
      "Introduce el valor de  3 , 1 :\n",
      "5\n",
      "Introduce el valor de  3 , 2 :\n",
      "5\n",
      "Introduce el valor de  3 , 3 :\n",
      "5\n",
      "Introduce el valor de  3 , 4 :\n",
      "5\n",
      "Introduce el valor de  4 , 0 :\n",
      "5\n",
      "Introduce el valor de  4 , 1 :\n",
      "5\n",
      "Introduce el valor de  4 , 2 :\n",
      "5\n",
      "Introduce el valor de  4 , 3 :\n",
      "5\n",
      "Introduce el valor de  4 , 4 :\n",
      "5\n",
      "[[5. 2. 5. 4. 7.]\n",
      " [8. 5. 6. 5. 5.]\n",
      " [5. 5. 5. 5. 5.]\n",
      " [5. 5. 5. 5. 5.]\n",
      " [5. 5. 5. 5. 5.]]\n",
      "Valor maximo de la fila 0:  7.0\n",
      "Valor minimo de la fila 0:  2.0\n",
      "Valor maximo de la fila 1:  8.0\n",
      "Valor minimo de la fila 1:  5.0\n",
      "Valor maximo de la fila 2:  5.0\n",
      "Valor minimo de la fila 2:  5.0\n",
      "Valor maximo de la fila 3:  5.0\n",
      "Valor minimo de la fila 3:  5.0\n",
      "Valor maximo de la fila 4:  5.0\n",
      "Valor minimo de la fila 4:  5.0\n",
      "Valor maximo de la fila 0:  8.0\n",
      "Valor minimo de la fila 0:  5.0\n",
      "Valor maximo de la fila 1:  5.0\n",
      "Valor minimo de la fila 1:  2.0\n",
      "Valor maximo de la fila 2:  6.0\n",
      "Valor minimo de la fila 2:  5.0\n",
      "Valor maximo de la fila 3:  5.0\n",
      "Valor minimo de la fila 3:  4.0\n",
      "Valor maximo de la fila 4:  7.0\n",
      "Valor minimo de la fila 4:  5.0\n",
      "Determinante de la matriz: 0.0\n",
      "El rango de la matriz es  3\n"
     ]
    }
   ],
   "source": [
    "import numpy as np\n",
    "\n",
    "tam = input(\"Introduce número de filas y columnas\")\n",
    "\n",
    "matriz = np.array([], dtype=float)\n",
    "x=0\n",
    "# Rellenamos la matriz\n",
    "for i in range(0,int(tam)):\n",
    "    aux=[]\n",
    "    for j in range(0, int(tam)):\n",
    "        print(\"Introduce el valor de \",i,\",\",j,\":\")\n",
    "        value=input() \n",
    "        aux.append(float(value))\n",
    "    if(x==0):\n",
    "        matriz=aux\n",
    "        x=1\n",
    "    else:\n",
    "        matriz=np.vstack([matriz,aux])   \n",
    "print(matriz) \n",
    "\n",
    "for i in range(np.size(matriz,1)):\n",
    "    print(\"Valor maximo de la fila \"+str(i)+\": \" , np.max(matriz[i,:]))\n",
    "    print(\"Valor minimo de la fila \"+str(i)+\": \" , np.min(matriz[i,:]))\n",
    "    \n",
    "for i in range(np.size(matriz,0)):\n",
    "    print(\"Valor maximo de la fila \"+str(i)+\": \" , np.max(matriz[:,i]))\n",
    "    print(\"Valor minimo de la fila \"+str(i)+\": \" , np.min(matriz[:,i]))\n",
    "\n",
    "print(\"Determinante de la matriz: \"+str(round(np.linalg.det(matriz))))\n",
    "print(\"El rango de la matriz es \", np.linalg.matrix_rank(matriz))"
   ]
  },
  {
   "cell_type": "markdown",
   "metadata": {},
   "source": [
    "### Ejercicio 4: Implemente un programa Python que lea una matriz de número enteros desde teclado de una dimensión dada. A partir de la matriz leída debe calcular la siguiente información:\n",
    "**4.1) Moda de la matriz**\n",
    "\n",
    "**4.2) Media de todos los elementos de la matriz**"
   ]
  },
  {
   "cell_type": "code",
   "execution_count": 71,
   "metadata": {},
   "outputs": [
    {
     "name": "stdout",
     "output_type": "stream",
     "text": [
      "Introduce el número de filas2\n",
      "Introduce el número de columnas2\n",
      "Introduce el valor de  0 , 0 :\n",
      "2\n",
      "Introduce el valor de  0 , 1 :\n",
      "2\n",
      "Introduce el valor de  1 , 0 :\n",
      "2\n",
      "Introduce el valor de  1 , 1 :\n",
      "2\n",
      "[[2. 2.]\n",
      " [2. 2.]]\n",
      "La Moda de la matriz es:  ModeResult(mode=array([[2., 2.]]), count=array([[2, 2]]))\n",
      "La Media de la matriz es:  2.0\n"
     ]
    }
   ],
   "source": [
    "import numpy as np\n",
    "from scipy import stats as st\n",
    "\n",
    "m = np.array([], dtype=float)\n",
    "rows = input(\"Introduce el número de filas\")\n",
    "cols = input(\"Introduce el número de columnas\")\n",
    "x=0\n",
    "\n",
    "# Rellenamos la matriz\n",
    "for i in range(0,int(rows)):\n",
    "    aux=[]\n",
    "    for j in range(0, int(cols)):\n",
    "        print(\"Introduce el valor de \",i,\",\",j,\":\")\n",
    "        value=input() \n",
    "        aux.append(float(value))\n",
    "    if(x==0):\n",
    "        m =aux\n",
    "        x=1\n",
    "    else:\n",
    "        m =np.vstack([m ,aux])   \n",
    "print(m) \n",
    "\n",
    "print(\"La Moda de la matriz es: \", st.mode(m))\n",
    "print(\"La Media de la matriz es: \", np.average(m))"
   ]
  },
  {
   "cell_type": "markdown",
   "metadata": {},
   "source": [
    "### Ejercicio 5: Implemente un programa Python que lea una matriz de números reales desde un fichero texto con formato libre. Una vez leído el programa debe obtener la inversa de la matriz y realizar un producto matricial para comprobar que el cálculo de la inversa es correcto.6\n"
   ]
  },
  {
   "cell_type": "code",
   "execution_count": 84,
   "metadata": {},
   "outputs": [
    {
     "name": "stdout",
     "output_type": "stream",
     "text": [
      "\n",
      " Inserte el nombre del fichero: Fichero1.txt\n",
      "\n",
      " Inserte el delimitador del fichero, en nuestro caso un espacio:  \n",
      "\n",
      " Matrix\n",
      "[[ 3.  4. -1.]\n",
      " [ 2.  0.  1.]\n",
      " [ 1.  3. -2.]]\n",
      "\n",
      "   --> Inversa: \n",
      "[[-0.6  1.   0.8]\n",
      " [ 1.  -1.  -1. ]\n",
      " [ 1.2 -1.  -1.6]]\n",
      "\n",
      "   --> Producto m * inversa: \n",
      "[[ 1.00000000e+00  2.22044605e-16  0.00000000e+00]\n",
      " [ 0.00000000e+00  1.00000000e+00 -2.22044605e-16]\n",
      " [ 0.00000000e+00 -4.44089210e-16  1.00000000e+00]]\n",
      "[[1. 0. 0.]\n",
      " [0. 1. 0.]\n",
      " [0. 0. 1.]]\n"
     ]
    }
   ],
   "source": [
    "import numpy as np\n",
    "import math\n",
    "def MatrixFiledata(nameFile,deli):\n",
    "    openFile = np.loadtxt(\"./Datos/\"+nameFile, delimiter=deli)\n",
    "    return openFile\n",
    "\n",
    "file = input(\"\\n Inserte el nombre del fichero: \")\n",
    "delimiter = input(\"\\n Inserte el delimitador del fichero, en nuestro caso un espacio: \")\n",
    "\n",
    "mat = MatrixFiledata(file,delimiter)\n",
    "print(\"\\n Matrix\")\n",
    "print(mat)\n",
    "\n",
    "inversa = np.linalg.inv(mat)\n",
    "print(\"\\n   --> Inversa: \")\n",
    "print(inversa)\n",
    "print(\"\\n   --> Producto m * inversa: \")\n",
    "multiplicada = np.matmul(m,inversa)\n",
    "print(multiplicada)\n",
    "\n",
    "identidad = np.identity(np.size(mat,1))\n",
    "print(identidad)\n",
    "if np.array_equal(indentidad,multiplicada)==True:\n",
    "    print(\"Es correcto\\n\")"
   ]
  },
  {
   "cell_type": "code",
   "execution_count": null,
   "metadata": {},
   "outputs": [],
   "source": []
  }
 ],
 "metadata": {
  "kernelspec": {
   "display_name": "Python 3",
   "language": "python",
   "name": "python3"
  },
  "language_info": {
   "codemirror_mode": {
    "name": "ipython",
    "version": 3
   },
   "file_extension": ".py",
   "mimetype": "text/x-python",
   "name": "python",
   "nbconvert_exporter": "python",
   "pygments_lexer": "ipython3",
   "version": "3.8.3"
  }
 },
 "nbformat": 4,
 "nbformat_minor": 4
}
